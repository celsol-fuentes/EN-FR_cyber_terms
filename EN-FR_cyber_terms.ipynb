{
 "cells": [
  {
   "cell_type": "markdown",
   "id": "4c3f81c6",
   "metadata": {},
   "source": [
    "<h1><center>CELIA FUENTES</center></h1>"
   ]
  },
  {
   "cell_type": "markdown",
   "id": "56c39ecc",
   "metadata": {},
   "source": [
    "<p><a href=\"https://github.com/celsol-fuentes\">\n",
    "<img src=\"img/Github_black.png\" width=\"50\" height=\"25\">\n",
    "</a></p>\n",
    "<p><a href=\"https://www.linkedin.com/in/celia-sol-fuentes\">\n",
    "<img src=\"img/LinkedIN.png\" width=\"50\" height=\"25\">\n",
    "</a></p>"
   ]
  },
  {
   "cell_type": "markdown",
   "id": "5180927d",
   "metadata": {},
   "source": [
    "<h2><center>English to French List of Cybersecurity Terms</h2>"
   ]
  },
  {
   "cell_type": "markdown",
   "id": "3a6c77ff",
   "metadata": {},
   "source": [
    "<h3>Introduction</h3>"
   ]
  },
  {
   "cell_type": "markdown",
   "id": "f83119af",
   "metadata": {},
   "source": [
    "Do you need to improve your Québécois French cybersecurity vocabulary? \n",
    "\n",
    "There seems to be no one-stop resource available to easily find a list of basic cybersecurity terms in both English and French. Either the resources I found were only in one language, were too specific to one domain (ex. privacy) or were lacking terms that I considered essential.\n",
    "\n",
    "I thought I'd share this list I made of English cybersecurity terms with their French translation. It has around 345 entry-level terms from: IT, networking, access control, cryptography, attack techniques and procedures, information security, incident response, internet protocols, etc."
   ]
  },
  {
   "cell_type": "markdown",
   "id": "f9d6510b",
   "metadata": {},
   "source": [
    "<h3>Method</h3>"
   ]
  },
  {
   "cell_type": "markdown",
   "id": "dad3c5d2",
   "metadata": {},
   "source": [
    "I went through my class material to make a basic list of terms in English and put them in a spreadsheet. As these are domain specific, I consulted linguistic references (see the last section) to validate the French terms. I then read the spreadsheet into a pandas dataframe.  \n",
    "\n",
    "By default, the list is in English alphabetical order, but it can be put in French alphabetical order.\n",
    "\n",
    "The .xls, .pdf and .ipynb files are available at https://github.com/celsol-fuentes/EN-FR_cyber_terms.\n",
    "Feel free to fork this repository, add terms or even languages!"
   ]
  },
  {
   "cell_type": "markdown",
   "id": "c691f49a",
   "metadata": {},
   "source": [
    "<h3>Code</h3>"
   ]
  },
  {
   "cell_type": "code",
   "execution_count": 1,
   "id": "14d9a320",
   "metadata": {},
   "outputs": [],
   "source": [
    "import pandas as pd"
   ]
  },
  {
   "cell_type": "code",
   "execution_count": 2,
   "id": "4adbacc0",
   "metadata": {},
   "outputs": [],
   "source": [
    "# read my bilingual spreadsheet of cyber terms into dataframe\n",
    "df_EN_FR_cyber_terms = pd.read_excel(\"EN-FR_cyber_terms.xlsx\",\n",
    "                                        index_col=None,\n",
    "                                        dtype={\"EN\":str, \"FR\": str})"
   ]
  },
  {
   "cell_type": "markdown",
   "id": "ff282b12",
   "metadata": {},
   "source": [
    "<h3>List of Terms</h3>"
   ]
  },
  {
   "cell_type": "code",
   "execution_count": 3,
   "id": "102bce32",
   "metadata": {},
   "outputs": [
    {
     "data": {
      "text/html": [
       "<div>\n",
       "<style scoped>\n",
       "    .dataframe tbody tr th:only-of-type {\n",
       "        vertical-align: middle;\n",
       "    }\n",
       "\n",
       "    .dataframe tbody tr th {\n",
       "        vertical-align: top;\n",
       "    }\n",
       "\n",
       "    .dataframe thead th {\n",
       "        text-align: right;\n",
       "    }\n",
       "</style>\n",
       "<table border=\"1\" class=\"dataframe\">\n",
       "  <thead>\n",
       "    <tr style=\"text-align: right;\">\n",
       "      <th></th>\n",
       "      <th>EN</th>\n",
       "      <th>FR</th>\n",
       "    </tr>\n",
       "  </thead>\n",
       "  <tbody>\n",
       "    <tr>\n",
       "      <th>0</th>\n",
       "      <td>acceptable use policy (AUP)</td>\n",
       "      <td>politique d'utilisation acceptable</td>\n",
       "    </tr>\n",
       "    <tr>\n",
       "      <th>1</th>\n",
       "      <td>access control</td>\n",
       "      <td>contrôle d'accès</td>\n",
       "    </tr>\n",
       "    <tr>\n",
       "      <th>2</th>\n",
       "      <td>access control list (ACL)</td>\n",
       "      <td>liste de droits d'accès</td>\n",
       "    </tr>\n",
       "    <tr>\n",
       "      <th>3</th>\n",
       "      <td>access rights</td>\n",
       "      <td>droits d'accès</td>\n",
       "    </tr>\n",
       "    <tr>\n",
       "      <th>4</th>\n",
       "      <td>administrative controls</td>\n",
       "      <td>contrôle administratif</td>\n",
       "    </tr>\n",
       "    <tr>\n",
       "      <th>...</th>\n",
       "      <td>...</td>\n",
       "      <td>...</td>\n",
       "    </tr>\n",
       "    <tr>\n",
       "      <th>339</th>\n",
       "      <td>write blocker</td>\n",
       "      <td>bloqueur d'écriture</td>\n",
       "    </tr>\n",
       "    <tr>\n",
       "      <th>340</th>\n",
       "      <td>zero day</td>\n",
       "      <td>jour zéro</td>\n",
       "    </tr>\n",
       "    <tr>\n",
       "      <th>341</th>\n",
       "      <td>zero-day exploit</td>\n",
       "      <td>exploitation du jour zéro</td>\n",
       "    </tr>\n",
       "    <tr>\n",
       "      <th>342</th>\n",
       "      <td>zero-day security vulnerability</td>\n",
       "      <td>vulnérabilité du jour zéro</td>\n",
       "    </tr>\n",
       "    <tr>\n",
       "      <th>343</th>\n",
       "      <td>zero-trust model</td>\n",
       "      <td>modèle à vérification systématique</td>\n",
       "    </tr>\n",
       "  </tbody>\n",
       "</table>\n",
       "<p>344 rows × 2 columns</p>\n",
       "</div>"
      ],
      "text/plain": [
       "                                  EN                                  FR\n",
       "0        acceptable use policy (AUP)  politique d'utilisation acceptable\n",
       "1                     access control                    contrôle d'accès\n",
       "2          access control list (ACL)             liste de droits d'accès\n",
       "3                      access rights                      droits d'accès\n",
       "4            administrative controls              contrôle administratif\n",
       "..                               ...                                 ...\n",
       "339                    write blocker                 bloqueur d'écriture\n",
       "340                         zero day                           jour zéro\n",
       "341                 zero-day exploit           exploitation du jour zéro\n",
       "342  zero-day security vulnerability          vulnérabilité du jour zéro\n",
       "343                 zero-trust model  modèle à vérification systématique\n",
       "\n",
       "[344 rows x 2 columns]"
      ]
     },
     "execution_count": 3,
     "metadata": {},
     "output_type": "execute_result"
    }
   ],
   "source": [
    "# the default is ascending alphabetical order in English\n",
    "df_EN_FR_cyber_terms"
   ]
  },
  {
   "cell_type": "code",
   "execution_count": 4,
   "id": "70739b40",
   "metadata": {},
   "outputs": [
    {
     "data": {
      "text/html": [
       "<div>\n",
       "<style scoped>\n",
       "    .dataframe tbody tr th:only-of-type {\n",
       "        vertical-align: middle;\n",
       "    }\n",
       "\n",
       "    .dataframe tbody tr th {\n",
       "        vertical-align: top;\n",
       "    }\n",
       "\n",
       "    .dataframe thead th {\n",
       "        text-align: right;\n",
       "    }\n",
       "</style>\n",
       "<table border=\"1\" class=\"dataframe\">\n",
       "  <thead>\n",
       "    <tr style=\"text-align: right;\">\n",
       "      <th></th>\n",
       "      <th>EN</th>\n",
       "      <th>FR</th>\n",
       "    </tr>\n",
       "  </thead>\n",
       "  <tbody>\n",
       "    <tr>\n",
       "      <th>186</th>\n",
       "      <td>multi-factor authentication</td>\n",
       "      <td>Authentification multifactorielle</td>\n",
       "    </tr>\n",
       "    <tr>\n",
       "      <th>43</th>\n",
       "      <td>Canadian Centre for Cyber Security</td>\n",
       "      <td>Centre canadien pour la cybersécurité</td>\n",
       "    </tr>\n",
       "    <tr>\n",
       "      <th>108</th>\n",
       "      <td>Ethernet</td>\n",
       "      <td>Ethernet</td>\n",
       "    </tr>\n",
       "    <tr>\n",
       "      <th>187</th>\n",
       "      <td>National Institute of Standards and Technology...</td>\n",
       "      <td>Institut national des normes et de la technologie</td>\n",
       "    </tr>\n",
       "    <tr>\n",
       "      <th>207</th>\n",
       "      <td>Payment Card Industry Data Security Standard (...</td>\n",
       "      <td>Norme de sécurité de l'industrie des cartes de...</td>\n",
       "    </tr>\n",
       "    <tr>\n",
       "      <th>...</th>\n",
       "      <td>...</td>\n",
       "      <td>...</td>\n",
       "    </tr>\n",
       "    <tr>\n",
       "      <th>60</th>\n",
       "      <td>computer emergency response team (CERT)</td>\n",
       "      <td>équipe d'intervention d'urgence informatique</td>\n",
       "    </tr>\n",
       "    <tr>\n",
       "      <th>62</th>\n",
       "      <td>computer security incident response team (CSIRT)</td>\n",
       "      <td>équipe d'intervention en cas d'incident de séc...</td>\n",
       "    </tr>\n",
       "    <tr>\n",
       "      <th>290</th>\n",
       "      <td>state</td>\n",
       "      <td>état</td>\n",
       "    </tr>\n",
       "    <tr>\n",
       "      <th>246</th>\n",
       "      <td>risk avoidance</td>\n",
       "      <td>évitement du risque</td>\n",
       "    </tr>\n",
       "    <tr>\n",
       "      <th>109</th>\n",
       "      <td>event</td>\n",
       "      <td>événement</td>\n",
       "    </tr>\n",
       "  </tbody>\n",
       "</table>\n",
       "<p>344 rows × 2 columns</p>\n",
       "</div>"
      ],
      "text/plain": [
       "                                                    EN  \\\n",
       "186                        multi-factor authentication   \n",
       "43                  Canadian Centre for Cyber Security   \n",
       "108                                           Ethernet   \n",
       "187  National Institute of Standards and Technology...   \n",
       "207  Payment Card Industry Data Security Standard (...   \n",
       "..                                                 ...   \n",
       "60             computer emergency response team (CERT)   \n",
       "62    computer security incident response team (CSIRT)   \n",
       "290                                              state   \n",
       "246                                     risk avoidance   \n",
       "109                                              event   \n",
       "\n",
       "                                                    FR  \n",
       "186                  Authentification multifactorielle  \n",
       "43               Centre canadien pour la cybersécurité  \n",
       "108                                           Ethernet  \n",
       "187  Institut national des normes et de la technologie  \n",
       "207  Norme de sécurité de l'industrie des cartes de...  \n",
       "..                                                 ...  \n",
       "60        équipe d'intervention d'urgence informatique  \n",
       "62   équipe d'intervention en cas d'incident de séc...  \n",
       "290                                               état  \n",
       "246                                évitement du risque  \n",
       "109                                          événement  \n",
       "\n",
       "[344 rows x 2 columns]"
      ]
     },
     "execution_count": 4,
     "metadata": {},
     "output_type": "execute_result"
    }
   ],
   "source": [
    "# ascending alphabetical order in French\n",
    "df_EN_FR_cyber_terms.sort_values(\"FR\")"
   ]
  },
  {
   "cell_type": "markdown",
   "id": "711b17c0",
   "metadata": {},
   "source": [
    "<h3>References</h3>"
   ]
  },
  {
   "cell_type": "markdown",
   "id": "9cce09c8",
   "metadata": {},
   "source": [
    "<h4>Office québécois de la langue française</h4>\n",
    "\n",
    "When there were different translations possible for a term from two or more sources, I would go with the recommendations made by *l'Office québécois de la langue française*. An information security glossary with many terms that overlap with cybersecurity can be found __[here](https://www.oqlf.gouv.qc.ca/ressources/bibliotheque/dictionnaires/vocabulaire-securite-informatique.aspx)__.\n",
    "\n",
    "\n",
    "I also recommend their __[Vitrine linguistique](https://vitrinelinguistique.oqlf.gouv.qc.ca/)__ to find more terms and/or resources."
   ]
  },
  {
   "cell_type": "markdown",
   "id": "e4caaf5b",
   "metadata": {},
   "source": [
    "<h4>Canadian Centre for Cyber Security</h4>\n",
    "\n",
    "In the absence of a recommendation from *l'Office*, I would go with a Canadian federal source such as the Canadian Centre for Cyber Security. The site has a glossary in __[English](https://www.cyber.gc.ca/en/glossary)__ and one in __[French](https://www.cyber.gc.ca/fr/glossaire)__, but no way of specifically matching an English term to the French one."
   ]
  },
  {
   "cell_type": "markdown",
   "id": "45cd0e5c",
   "metadata": {},
   "source": [
    "<h4>Termium</h4>\n",
    "\n",
    "The site comes from the __[Translation Bureau](https://www.tpsgc-pwgsc.gc.ca/bt-tb/index-eng.html)__.\n",
    "\n",
    "While there is no specific glossary for cybersecurity, I did find some relevant terms in the __[Personal Information and Privacy Glossary](https://www.btb.termiumplus.gc.ca/publications/renseignements-personnels-personal-information-eng.html)__ that is also available in __[French](https://www.btb.termiumplus.gc.ca/publications/renseignements-personnels-personal-information-fra.html)__."
   ]
  },
  {
   "cell_type": "markdown",
   "id": "755c417f",
   "metadata": {},
   "source": [
    "<h4>Information Systems Audit and Control Association (ISACA) </h4>\n",
    "\n",
    "The __[ISACA Glossary](https://www.isaca.org/resources/glossary)__ is another handy resource. \n",
    "\n",
    "Also on the web, there are several glossaries available from ISACA (English-French, English-Spanish) that provide good definition of terms in case you need to brush up."
   ]
  },
  {
   "cell_type": "markdown",
   "id": "21da3cdf",
   "metadata": {},
   "source": [
    "<h4>IBM </h4>\n",
    "\n",
    "A good explanation of the MITRE ATT&CK Matrix in French is available __[here](https://www.ibm.com/fr-fr/topics/mitre-attack)__."
   ]
  },
  {
   "cell_type": "markdown",
   "id": "a3ad3e98",
   "metadata": {},
   "source": [
    "<h4>European Union Agency for Cybersecurity (ENISA)</h4>\n",
    "\n",
    "__[ENISA](https://www.enisa.europa.eu)__ has information on cybersecurity in 14 languages!"
   ]
  },
  {
   "cell_type": "markdown",
   "id": "5f50bf41",
   "metadata": {},
   "source": [
    "<h4>North Atlantic Treaty Organization (NATO)</h4>\n",
    "\n",
    "NATO has a __[Cyber defence](https://www.nato.int/cps/en/natohq/topics_78170.htm)__ webpage. The NATO website is in four languages."
   ]
  },
  {
   "cell_type": "markdown",
   "id": "ea26ecf2",
   "metadata": {},
   "source": [
    "<h4>National Institute of Standards and Technology (NIST)</h4>\n",
    "\n",
    "The __[NIST glossary](https://csrc.nist.gov/glossary)__ is huge. Despite being available only in English, I plan on visiting often to find new concepts to add."
   ]
  }
 ],
 "metadata": {
  "kernelspec": {
   "display_name": "Python 3 (ipykernel)",
   "language": "python",
   "name": "python3"
  },
  "language_info": {
   "codemirror_mode": {
    "name": "ipython",
    "version": 3
   },
   "file_extension": ".py",
   "mimetype": "text/x-python",
   "name": "python",
   "nbconvert_exporter": "python",
   "pygments_lexer": "ipython3",
   "version": "3.9.15"
  }
 },
 "nbformat": 4,
 "nbformat_minor": 5
}
