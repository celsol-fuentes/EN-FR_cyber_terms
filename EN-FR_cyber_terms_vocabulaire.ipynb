{
 "cells": [
  {
   "cell_type": "markdown",
   "id": "4c3f81c6",
   "metadata": {},
   "source": [
    "<h1><center>CELIA FUENTES</center></h1>"
   ]
  },
  {
   "cell_type": "markdown",
   "id": "56c39ecc",
   "metadata": {},
   "source": [
    "<p><a href=\"https://github.com/celsol-fuentes\">\n",
    "<img src=\"img/Github_black.png\" width=\"50\" height=\"25\">\n",
    "</a></p>\n",
    "<p><a href=\"https://www.linkedin.com/in/celia-sol-fuentes\">\n",
    "<img src=\"img/LinkedIN.png\" width=\"50\" height=\"25\">\n",
    "</a></p>"
   ]
  },
  {
   "cell_type": "markdown",
   "id": "5180927d",
   "metadata": {},
   "source": [
    "<h2><center>English-French Cybersecurity Terms</h2>"
   ]
  },
  {
   "cell_type": "markdown",
   "id": "bb6ca282",
   "metadata": {},
   "source": [
    "<h2><center>Vocabulaire français-anglais de cybersécurité</h2>"
   ]
  },
  {
   "cell_type": "markdown",
   "id": "3eb982ec",
   "metadata": {},
   "source": [
    "<img src=\"img/cyber_terms_vocab.png\" width=\"400\" height=\"200\">"
   ]
  },
  {
   "cell_type": "markdown",
   "id": "6aaef24d",
   "metadata": {},
   "source": [
    "<h3>Do you need to improve your Québécois French cybersecurity vocabulary?</h3>\n",
    "\n",
    "I thought I’d share a compilation of almost 345 entry-level cybersecurity terms with their French translation.\n",
    "\n",
    "The “References” section includes resources I consulted while researching cyber terms in French. Please share any additional resources not listed there.\n",
    "\n",
    "The .xls, .pdf and .ipynb files are available at https://github.com/celsol-fuentes/EN-FR_cyber_terms.  \n",
    "\n",
    "Feel free to fork this repository, add terms or even languages!"
   ]
  },
  {
   "cell_type": "markdown",
   "id": "2364d940",
   "metadata": {},
   "source": [
    "<h3>Un coup de pouce pour améliorer votre vocabulaire en cybersécurité ?</h3>\n",
    "\n",
    "J’aimerais partager une ressource que j’ai créée. Il s’agit d’une compilation d’environ 345 termes de base provenant du domaine de la cybersécurité, avec leur traduction en anglais.\n",
    "\n",
    "Dans la section “References” (en anglais), je fournis les ressources linguistiques consultées lors de ma recherche. N’hésitez pas à partager vos ressources qui n’y figurent pas. \n",
    "\n",
    "Les fichiers .xls, .pdf et .ipynb sont disponibles sur la page Github  https://github.com/celsol-fuentes/EN-FR_cyber_terms.\n",
    "\n",
    "Dupliquer (fork) le dépôt (repository), ajouter des termes ou même des langues !"
   ]
  },
  {
   "cell_type": "markdown",
   "id": "c691f49a",
   "metadata": {},
   "source": [
    "<h3>Code</h3>"
   ]
  },
  {
   "cell_type": "code",
   "execution_count": 1,
   "id": "14d9a320",
   "metadata": {},
   "outputs": [],
   "source": [
    "import pandas as pd"
   ]
  },
  {
   "cell_type": "code",
   "execution_count": 2,
   "id": "07098fc9",
   "metadata": {},
   "outputs": [],
   "source": [
    "# read EN-FR spreadsheet into dataframe\n",
    "EN_FR_cyber_terms = pd.read_excel(\"EN-FR_cyber_terms.xlsx\",\n",
    "                                  dtype={\"EN\":str, \"FR\": str})"
   ]
  },
  {
   "cell_type": "code",
   "execution_count": 3,
   "id": "a4cdd85e",
   "metadata": {},
   "outputs": [],
   "source": [
    "# lire le tableur FR-EN dans un dataframe\n",
    "FR_EN_vocabulaire_cyber = pd.read_excel(\"FR-EN_vocabulaire_cyber.xlsx\",\n",
    "                                        dtype={\"FR\":str, \"EN\": str})"
   ]
  },
  {
   "cell_type": "markdown",
   "id": "ff282b12",
   "metadata": {},
   "source": [
    "<h3>EN-FR Terms</h3>"
   ]
  },
  {
   "cell_type": "code",
   "execution_count": 4,
   "id": "ee069be9",
   "metadata": {},
   "outputs": [
    {
     "data": {
      "text/html": [
       "<div>\n",
       "<style scoped>\n",
       "    .dataframe tbody tr th:only-of-type {\n",
       "        vertical-align: middle;\n",
       "    }\n",
       "\n",
       "    .dataframe tbody tr th {\n",
       "        vertical-align: top;\n",
       "    }\n",
       "\n",
       "    .dataframe thead th {\n",
       "        text-align: right;\n",
       "    }\n",
       "</style>\n",
       "<table border=\"1\" class=\"dataframe\">\n",
       "  <thead>\n",
       "    <tr style=\"text-align: right;\">\n",
       "      <th></th>\n",
       "      <th>EN</th>\n",
       "      <th>FR</th>\n",
       "    </tr>\n",
       "  </thead>\n",
       "  <tbody>\n",
       "    <tr>\n",
       "      <th>0</th>\n",
       "      <td>acceptable use policy (AUP)</td>\n",
       "      <td>politique d'utilisation acceptable</td>\n",
       "    </tr>\n",
       "    <tr>\n",
       "      <th>1</th>\n",
       "      <td>access control</td>\n",
       "      <td>contrôle d'accès</td>\n",
       "    </tr>\n",
       "    <tr>\n",
       "      <th>2</th>\n",
       "      <td>access control list (ACL)</td>\n",
       "      <td>liste de droits d'accès</td>\n",
       "    </tr>\n",
       "    <tr>\n",
       "      <th>3</th>\n",
       "      <td>access rights</td>\n",
       "      <td>droits d'accès</td>\n",
       "    </tr>\n",
       "    <tr>\n",
       "      <th>4</th>\n",
       "      <td>administrative controls</td>\n",
       "      <td>contrôle administratif</td>\n",
       "    </tr>\n",
       "    <tr>\n",
       "      <th>...</th>\n",
       "      <td>...</td>\n",
       "      <td>...</td>\n",
       "    </tr>\n",
       "    <tr>\n",
       "      <th>339</th>\n",
       "      <td>write blocker</td>\n",
       "      <td>bloqueur d'écriture</td>\n",
       "    </tr>\n",
       "    <tr>\n",
       "      <th>340</th>\n",
       "      <td>zero day</td>\n",
       "      <td>jour zéro</td>\n",
       "    </tr>\n",
       "    <tr>\n",
       "      <th>341</th>\n",
       "      <td>zero-day exploit</td>\n",
       "      <td>exploitation du jour zéro</td>\n",
       "    </tr>\n",
       "    <tr>\n",
       "      <th>342</th>\n",
       "      <td>zero-day security vulnerability</td>\n",
       "      <td>vulnérabilité du jour zéro</td>\n",
       "    </tr>\n",
       "    <tr>\n",
       "      <th>343</th>\n",
       "      <td>zero-trust model</td>\n",
       "      <td>modèle à vérification systématique</td>\n",
       "    </tr>\n",
       "  </tbody>\n",
       "</table>\n",
       "<p>344 rows × 2 columns</p>\n",
       "</div>"
      ],
      "text/plain": [
       "                                  EN                                  FR\n",
       "0        acceptable use policy (AUP)  politique d'utilisation acceptable\n",
       "1                     access control                    contrôle d'accès\n",
       "2          access control list (ACL)             liste de droits d'accès\n",
       "3                      access rights                      droits d'accès\n",
       "4            administrative controls              contrôle administratif\n",
       "..                               ...                                 ...\n",
       "339                    write blocker                 bloqueur d'écriture\n",
       "340                         zero day                           jour zéro\n",
       "341                 zero-day exploit           exploitation du jour zéro\n",
       "342  zero-day security vulnerability          vulnérabilité du jour zéro\n",
       "343                 zero-trust model  modèle à vérification systématique\n",
       "\n",
       "[344 rows x 2 columns]"
      ]
     },
     "execution_count": 4,
     "metadata": {},
     "output_type": "execute_result"
    }
   ],
   "source": [
    "# in English alphabetical order\n",
    "EN_FR_cyber_terms"
   ]
  },
  {
   "cell_type": "markdown",
   "id": "874337c3",
   "metadata": {},
   "source": [
    "<h3>Vocabulaire FR-EN</h3>"
   ]
  },
  {
   "cell_type": "code",
   "execution_count": 5,
   "id": "45e5180d",
   "metadata": {},
   "outputs": [
    {
     "data": {
      "text/html": [
       "<div>\n",
       "<style scoped>\n",
       "    .dataframe tbody tr th:only-of-type {\n",
       "        vertical-align: middle;\n",
       "    }\n",
       "\n",
       "    .dataframe tbody tr th {\n",
       "        vertical-align: top;\n",
       "    }\n",
       "\n",
       "    .dataframe thead th {\n",
       "        text-align: right;\n",
       "    }\n",
       "</style>\n",
       "<table border=\"1\" class=\"dataframe\">\n",
       "  <thead>\n",
       "    <tr style=\"text-align: right;\">\n",
       "      <th></th>\n",
       "      <th>FR</th>\n",
       "      <th>EN</th>\n",
       "    </tr>\n",
       "  </thead>\n",
       "  <tbody>\n",
       "    <tr>\n",
       "      <th>0</th>\n",
       "      <td>acceptation du risque</td>\n",
       "      <td>risk acceptance</td>\n",
       "    </tr>\n",
       "    <tr>\n",
       "      <th>1</th>\n",
       "      <td>accès aux identifiants</td>\n",
       "      <td>credential access</td>\n",
       "    </tr>\n",
       "    <tr>\n",
       "      <th>2</th>\n",
       "      <td>accès initial</td>\n",
       "      <td>initial access</td>\n",
       "    </tr>\n",
       "    <tr>\n",
       "      <th>3</th>\n",
       "      <td>actif</td>\n",
       "      <td>asset</td>\n",
       "    </tr>\n",
       "    <tr>\n",
       "      <th>4</th>\n",
       "      <td>adresse IP</td>\n",
       "      <td>Internet Protocol (IP) address</td>\n",
       "    </tr>\n",
       "    <tr>\n",
       "      <th>...</th>\n",
       "      <td>...</td>\n",
       "      <td>...</td>\n",
       "    </tr>\n",
       "    <tr>\n",
       "      <th>339</th>\n",
       "      <td>vulnérabilité logicielle</td>\n",
       "      <td>software vulnerability</td>\n",
       "    </tr>\n",
       "    <tr>\n",
       "      <th>340</th>\n",
       "      <td>vulnérabilité matérielle</td>\n",
       "      <td>hardware vulnerability</td>\n",
       "    </tr>\n",
       "    <tr>\n",
       "      <th>341</th>\n",
       "      <td>Web clandestin</td>\n",
       "      <td>dark Web</td>\n",
       "    </tr>\n",
       "    <tr>\n",
       "      <th>342</th>\n",
       "      <td>Wi-Fi</td>\n",
       "      <td>Wi-Fi</td>\n",
       "    </tr>\n",
       "    <tr>\n",
       "      <th>343</th>\n",
       "      <td>zone démilitarisée</td>\n",
       "      <td>demilitarized Zone (DMZ)</td>\n",
       "    </tr>\n",
       "  </tbody>\n",
       "</table>\n",
       "<p>344 rows × 2 columns</p>\n",
       "</div>"
      ],
      "text/plain": [
       "                           FR                              EN\n",
       "0       acceptation du risque                 risk acceptance\n",
       "1      accès aux identifiants               credential access\n",
       "2               accès initial                  initial access\n",
       "3                       actif                           asset\n",
       "4                  adresse IP  Internet Protocol (IP) address\n",
       "..                        ...                             ...\n",
       "339  vulnérabilité logicielle          software vulnerability\n",
       "340  vulnérabilité matérielle          hardware vulnerability\n",
       "341            Web clandestin                        dark Web\n",
       "342                     Wi-Fi                           Wi-Fi\n",
       "343        zone démilitarisée        demilitarized Zone (DMZ)\n",
       "\n",
       "[344 rows x 2 columns]"
      ]
     },
     "execution_count": 5,
     "metadata": {},
     "output_type": "execute_result"
    }
   ],
   "source": [
    "# ordre alphabétique en français\n",
    "FR_EN_vocabulaire_cyber"
   ]
  },
  {
   "cell_type": "markdown",
   "id": "711b17c0",
   "metadata": {},
   "source": [
    "<h3>References</h3>"
   ]
  },
  {
   "cell_type": "markdown",
   "id": "9cce09c8",
   "metadata": {},
   "source": [
    "<h4>Office québécois de la langue française</h4>\n",
    "\n",
    "When there were different translations possible for a term from two or more sources, I would go with the recommendations made by the *Office québécois de la langue française*. An information security glossary with many terms that overlap with cybersecurity can be found __[here](https://www.oqlf.gouv.qc.ca/ressources/bibliotheque/dictionnaires/vocabulaire-securite-informatique.aspx)__.\n",
    "\n",
    "\n",
    "I also recommend their __[Vitrine linguistique](https://vitrinelinguistique.oqlf.gouv.qc.ca/)__ to find more terms and/or resources."
   ]
  },
  {
   "cell_type": "markdown",
   "id": "e4caaf5b",
   "metadata": {},
   "source": [
    "<h4>Canadian Centre for Cyber Security</h4>\n",
    "\n",
    "In the absence of a recommendation from the *Office*, I would go with a Canadian federal source such as the Canadian Centre for Cyber Security. The site has a glossary in __[English](https://www.cyber.gc.ca/en/glossary)__ and one in __[French](https://www.cyber.gc.ca/fr/glossaire)__, but no way of directly matching an English term to the French one."
   ]
  },
  {
   "cell_type": "markdown",
   "id": "45cd0e5c",
   "metadata": {},
   "source": [
    "<h4>Termium</h4>\n",
    "\n",
    "The site comes from the __[Translation Bureau](https://www.tpsgc-pwgsc.gc.ca/bt-tb/index-eng.html)__.\n",
    "\n",
    "While there is no specific glossary for cybersecurity, I did find some relevant terms in the __[Personal Information and Privacy Glossary](https://www.btb.termiumplus.gc.ca/publications/renseignements-personnels-personal-information-eng.html)__ that is also available in __[French](https://www.btb.termiumplus.gc.ca/publications/renseignements-personnels-personal-information-fra.html)__."
   ]
  },
  {
   "cell_type": "markdown",
   "id": "755c417f",
   "metadata": {},
   "source": [
    "<h4>Information Systems Audit and Control Association (ISACA) </h4>\n",
    "\n",
    "The __[ISACA Glossary](https://www.isaca.org/resources/glossary)__ is another handy resource. \n",
    "\n",
    "Also on the web, there are several glossaries available from ISACA (English-French, English-Spanish) that provide good definition of terms in case you need to brush up."
   ]
  },
  {
   "cell_type": "markdown",
   "id": "21da3cdf",
   "metadata": {},
   "source": [
    "<h4>IBM </h4>\n",
    "\n",
    "A good explanation of the MITRE ATT&CK Matrix in French is available __[here](https://www.ibm.com/fr-fr/topics/mitre-attack)__."
   ]
  },
  {
   "cell_type": "markdown",
   "id": "a3ad3e98",
   "metadata": {},
   "source": [
    "<h4>European Union Agency for Cybersecurity (ENISA)</h4>\n",
    "\n",
    "__[ENISA](https://www.enisa.europa.eu)__ has information on cybersecurity in 14 languages!"
   ]
  },
  {
   "cell_type": "markdown",
   "id": "5f50bf41",
   "metadata": {},
   "source": [
    "<h4>North Atlantic Treaty Organization (NATO)</h4>\n",
    "\n",
    "NATO has a __[Cyber defence](https://www.nato.int/cps/en/natohq/topics_78170.htm)__ webpage. The NATO website is in four languages."
   ]
  },
  {
   "cell_type": "markdown",
   "id": "ea26ecf2",
   "metadata": {},
   "source": [
    "<h4>National Institute of Standards and Technology (NIST)</h4>\n",
    "\n",
    "The __[NIST glossary](https://csrc.nist.gov/glossary)__ is huge. Despite being available only in English, I plan on visiting often to find more terms."
   ]
  }
 ],
 "metadata": {
  "kernelspec": {
   "display_name": "Python 3 (ipykernel)",
   "language": "python",
   "name": "python3"
  },
  "language_info": {
   "codemirror_mode": {
    "name": "ipython",
    "version": 3
   },
   "file_extension": ".py",
   "mimetype": "text/x-python",
   "name": "python",
   "nbconvert_exporter": "python",
   "pygments_lexer": "ipython3",
   "version": "3.9.15"
  }
 },
 "nbformat": 4,
 "nbformat_minor": 5
}
